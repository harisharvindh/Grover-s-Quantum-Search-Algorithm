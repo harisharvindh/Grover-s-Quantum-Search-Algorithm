{
 "cells": [
  {
   "cell_type": "code",
   "execution_count": 1,
   "id": "4fb399a3-fbca-4e18-b91c-512aeefdce42",
   "metadata": {
    "tags": []
   },
   "outputs": [],
   "source": [
    "# Importing standard Qiskit libraries\n",
    "from qiskit import QuantumCircuit, transpile, execute, Aer, QuantumRegister, ClassicalRegister, BasicAer\n",
    "from qiskit.compiler import transpile, assemble\n",
    "from qiskit.tools.jupyter import *\n",
    "from qiskit.visualization import *\n",
    "from ibm_quantum_widgets import *\n",
    "from qiskit_ibm_provider import IBMProvider\n",
    " # Loading your IBM Q account (s)\n",
    "provider = IBMProvider ()\n",
    "\n",
    "# qiskit-ibmq-provider has been deprecated.\n",
    "# Please see the Migration Guides in https://ibm.biz/provider_migration_guide for more detail.\n",
    "from qiskit_ibm_runtime import QiskitRuntimeService, Sampler, Estimator, Session, Options\n",
    "\n",
    "# Loading your IBM Quantum account(s)\n",
    "service = QiskitRuntimeService(channel=\"ibm_quantum\")\n",
    "\n",
    "# Invoke a primitive. For more details see https://qiskit.org/documentation/partners/qiskit_ibm_runtime/tutorials.html\n",
    "# result = Sampler(\"ibmq_qasm_simulator\").run(circuits).result()"
   ]
  },
  {
   "cell_type": "code",
   "execution_count": 3,
   "id": "bf48d239-c7d4-4d51-8fe9-8aff0473f1dc",
   "metadata": {
    "tags": []
   },
   "outputs": [],
   "source": [
    "def controlled_controlled_z(circuit, control0, control1, target):\n",
    "    circuit.h(target)\n",
    "    circuit.ccx(control0, control1, target)\n",
    "    circuit.h(target)"
   ]
  },
  {
   "cell_type": "code",
   "execution_count": 4,
   "id": "1425b63a-1ff1-4735-83d8-cec458241d2f",
   "metadata": {
    "tags": []
   },
   "outputs": [],
   "source": [
    "def phase_oracle(circuit, registers):\n",
    "    controlled_controlled_z(circuit, registers[0], registers[1], registers[2])"
   ]
  },
  {
   "cell_type": "code",
   "execution_count": 7,
   "id": "1dd8ed08-a750-405a-a6a8-559fb5eb9b2f",
   "metadata": {
    "tags": []
   },
   "outputs": [],
   "source": [
    "def grover_diffusion(circuit, registers):\n",
    "    circuit.h(registers)\n",
    "    circuit.x(registers)\n",
    "    circuit.barrier()\n",
    "    controlled_controlled_z(circuit, registers[0], registers[1], registers[2])\n",
    "    circuit.barrier()\n",
    "    circuit.x(registers)\n",
    "    circuit.h(registers)\n",
    "    \n",
    "    "
   ]
  },
  {
   "cell_type": "code",
   "execution_count": 24,
   "id": "d7117612-6926-4d01-8bf7-ac57e12d0442",
   "metadata": {
    "tags": []
   },
   "outputs": [
    {
     "name": "stdout",
     "output_type": "stream",
     "text": [
      "Traceback \u001b[1;36m(most recent call last)\u001b[0m:\n",
      "\u001b[1;36m  Cell \u001b[1;32mIn[24], line 14\u001b[1;36m\n",
      "\u001b[1;33m    phase_oracle(groverCircuit, qr)\u001b[1;36m\n",
      "\u001b[1;31mNameError\u001b[0m\u001b[1;31m:\u001b[0m name 'phase_oracle' is not defined\n",
      "\n",
      "Use %tb to get the full traceback.\n"
     ]
    },
    {
     "data": {
      "text/html": [
       "\n",
       "<style>\n",
       ".button {\n",
       "  border: none;\n",
       "  color: white;\n",
       "  padding: 4px 8px;\n",
       "  text-align: center;\n",
       "  text-decoration: none;\n",
       "  display: inline-block;\n",
       "  font-size: 12px;\n",
       "  margin: 4px 2px;\n",
       "  transition-duration: 0.2s;\n",
       "  cursor: pointer;\n",
       "}\n",
       ".iqx-button {\n",
       "  background-color: #0f62fe; \n",
       "  color: white; \n",
       "}\n",
       ".iqx-button:hover {\n",
       "  background-color: #0043ce;\n",
       "  color: white;\n",
       "}\n",
       "</style>\n",
       "<a href=\"https://stackoverflow.com/search?q=NameError: name 'phase_oracle' is not defined\" target='_blank'><button class='button iqx-button'>Search for solution online</button></a>\n"
      ],
      "text/plain": [
       "<IPython.core.display.HTML object>"
      ]
     },
     "metadata": {},
     "output_type": "display_data"
    }
   ],
   "source": [
    "Qubits = 3\n",
    "tests = 1\n",
    "\n",
    "qr = QuantumRegister(Qubits)\n",
    "cr = ClassicalRegister(Qubits)\n",
    "groverCircuit = QuantumCircuit(qr, cr)\n",
    "\n",
    "#groverCircuit.reset(qr)\n",
    "\n",
    "groverCircuit.h(qr)\n",
    "\n",
    "for test in range(0, tests):\n",
    "    groverCircuit.barrier()\n",
    "    phase_oracle(groverCircuit, qr)\n",
    "    groverCircuit.barrier()\n",
    "    grover_diffusion(groverCircuit, qr)\n",
    "    phase_oracle(groverCircuit, qr)\n",
    "    grover_diffusion(groverCircuit, qr)\n",
    "    #oracle(groverCircuit, qr)\n",
    "    #diffusion(groverCircuit, qr)\n",
    "    \n",
    "    \n",
    "    \n",
    "groverCircuit.barrier()\n",
    "groverCircuit.measure(qr, cr)\n",
    "\n",
    "groverCircuit.draw(output = 'mpl')\n",
    "    \n",
    "\n",
    "\n"
   ]
  },
  {
   "cell_type": "code",
   "execution_count": 23,
   "id": "9d13e906-752a-4fa8-a61e-4dabc6593387",
   "metadata": {
    "tags": []
   },
   "outputs": [
    {
     "data": {
      "image/png": "[encoded data removed]",
      "text/plain": [
       "<Figure size 700x500 with 1 Axes>"
      ]
     },
     "execution_count": 23,
     "metadata": {},
     "output_type": "execute_result"
    }
   ],
   "source": [
    "backend = BasicAer.get_backend('qasm_simulator')\n",
    "shots = 3000\n",
    "\n",
    "results = execute(groverCircuit, backend = backend, shots = shots).result()\n",
    "answer = results.get_counts()\n",
    "plot_histogram(answer)"
   ]
  },
  {
   "cell_type": "code",
   "execution_count": null,
   "id": "770e18e7-de6d-4b91-b77f-9b579b73f6fa",
   "metadata": {},
   "outputs": [],
   "source": []
  }
 ],
 "metadata": {
  "kernelspec": {
   "display_name": "Python 3 (ipykernel)",
   "language": "python",
   "name": "python3"
  },
  "language_info": {
   "codemirror_mode": {
    "name": "ipython",
    "version": 3
   },
   "file_extension": ".py",
   "mimetype": "text/x-python",
   "name": "python",
   "nbconvert_exporter": "python",
   "pygments_lexer": "ipython3",
   "version": "3.10.8"
  },
  "widgets": {
   "application/vnd.jupyter.widget-state+json": {
    "state": {
     "1465205dc1284298b63b9f7f3e160e45": {
      "model_module": "@jupyter-widgets/controls",
      "model_module_version": "2.0.0",
      "model_name": "HTMLModel",
      "state": {
       "layout": "IPY_MODEL_7e1be737a10e4cfd99015fc440d58200",
       "style": "IPY_MODEL_3f357f29616948148b760e4d4c3b2283",
       "value": "<h5>Job ID</h5>"
      }
     },
     "1f960a21eb07454dbea0b8793427a0e0": {
      "model_module": "@jupyter-widgets/controls",
      "model_module_version": "2.0.0",
      "model_name": "HTMLModel",
      "state": {
       "layout": "IPY_MODEL_470b2a07c82c4696adcaab6d8901d92f",
       "style": "IPY_MODEL_adf2cf8dbc3a4d74bf4babe42d592a54",
       "value": "<h5>Status</h5>"
      }
     },
     "3cf71ca99e084da08a48b2f3e56b90fa": {
      "model_module": "@jupyter-widgets/controls",
      "model_module_version": "2.0.0",
      "model_name": "HTMLModel",
      "state": {
       "layout": "IPY_MODEL_c5cf169f6c6a46e6a1cb2fad91d39113",
       "style": "IPY_MODEL_b8cace46d91f49a4baf259d90f03f848",
       "value": "<h5>Queue</h5>"
      }
     },
     "3f357f29616948148b760e4d4c3b2283": {
      "model_module": "@jupyter-widgets/controls",
      "model_module_version": "2.0.0",
      "model_name": "HTMLStyleModel",
      "state": {
       "description_width": "",
       "font_size": null,
       "text_color": null
      }
     },
     "470b2a07c82c4696adcaab6d8901d92f": {
      "model_module": "@jupyter-widgets/base",
      "model_module_version": "2.0.0",
      "model_name": "LayoutModel",
      "state": {
       "width": "95px"
      }
     },
     "4c0221e865484e9bb42468fa4314389a": {
      "model_module": "@jupyter-widgets/base",
      "model_module_version": "2.0.0",
      "model_name": "LayoutModel",
      "state": {
       "margin": "0px 0px 0px 37px",
       "width": "600px"
      }
     },
     "5aef07efaf634938911c3c0555757d28": {
      "model_module": "@jupyter-widgets/controls",
      "model_module_version": "2.0.0",
      "model_name": "HTMLStyleModel",
      "state": {
       "description_width": "",
       "font_size": null,
       "text_color": null
      }
     },
     "5cd5eb2c1b2448309651847e3cb1220f": {
      "model_module": "@jupyter-widgets/controls",
      "model_module_version": "2.0.0",
      "model_name": "ButtonStyleModel",
      "state": {
       "font_family": null,
       "font_size": null,
       "font_style": null,
       "font_variant": null,
       "font_weight": null,
       "text_color": null,
       "text_decoration": null
      }
     },
     "672777c0e75c49fd9acca43802e5a66b": {
      "model_module": "@jupyter-widgets/base",
      "model_module_version": "2.0.0",
      "model_name": "LayoutModel",
      "state": {
       "grid_area": "right",
       "padding": "0px 0px 0px 0px",
       "width": "70px"
      }
     },
     "6fcc4203a5034930bfe3c322a24fdd26": {
      "model_module": "@jupyter-widgets/base",
      "model_module_version": "2.0.0",
      "model_name": "LayoutModel",
      "state": {}
     },
     "70ceaa4c17e94789a9bace8589d3f919": {
      "model_module": "@jupyter-widgets/controls",
      "model_module_version": "2.0.0",
      "model_name": "GridBoxModel",
      "state": {
       "children": [
        "IPY_MODEL_84f919f68cfc48f08ece25f4ac861134"
       ],
       "layout": "IPY_MODEL_dbee53b424144aff858cba36ab1cea15"
      }
     },
     "7e1be737a10e4cfd99015fc440d58200": {
      "model_module": "@jupyter-widgets/base",
      "model_module_version": "2.0.0",
      "model_name": "LayoutModel",
      "state": {
       "width": "190px"
      }
     },
     "84f919f68cfc48f08ece25f4ac861134": {
      "model_module": "@jupyter-widgets/controls",
      "model_module_version": "2.0.0",
      "model_name": "ButtonModel",
      "state": {
       "button_style": "primary",
       "description": "Clear",
       "layout": "IPY_MODEL_672777c0e75c49fd9acca43802e5a66b",
       "style": "IPY_MODEL_5cd5eb2c1b2448309651847e3cb1220f",
       "tooltip": null
      }
     },
     "90d42db889714fe2aae2142daf3edfca": {
      "model_module": "@jupyter-widgets/base",
      "model_module_version": "2.0.0",
      "model_name": "LayoutModel",
      "state": {
       "margin": "0px 0px 10px 0px"
      }
     },
     "9531aa75a384418b9db6fd2e536d1ad4": {
      "model_module": "@jupyter-widgets/controls",
      "model_module_version": "2.0.0",
      "model_name": "HTMLModel",
      "state": {
       "layout": "IPY_MODEL_6fcc4203a5034930bfe3c322a24fdd26",
       "style": "IPY_MODEL_9eaa470a3656472dbd5afe0645474748",
       "value": "<h5>Message</h5>"
      }
     },
     "9eaa470a3656472dbd5afe0645474748": {
      "model_module": "@jupyter-widgets/controls",
      "model_module_version": "2.0.0",
      "model_name": "HTMLStyleModel",
      "state": {
       "description_width": "",
       "font_size": null,
       "text_color": null
      }
     },
     "a6bdfbaed6ad42e68e103b7d472ce35c": {
      "model_module": "@jupyter-widgets/controls",
      "model_module_version": "2.0.0",
      "model_name": "HTMLStyleModel",
      "state": {
       "description_width": "",
       "font_size": null,
       "text_color": null
      }
     },
     "ab72013d3e6941899ae53e5937feefb1": {
      "model_module": "@jupyter-widgets/controls",
      "model_module_version": "2.0.0",
      "model_name": "HBoxModel",
      "state": {
       "children": [
        "IPY_MODEL_1465205dc1284298b63b9f7f3e160e45",
        "IPY_MODEL_dc062339f91748768656dcaf4940942a",
        "IPY_MODEL_1f960a21eb07454dbea0b8793427a0e0",
        "IPY_MODEL_3cf71ca99e084da08a48b2f3e56b90fa",
        "IPY_MODEL_9531aa75a384418b9db6fd2e536d1ad4"
       ],
       "layout": "IPY_MODEL_4c0221e865484e9bb42468fa4314389a"
      }
     },
     "adf2cf8dbc3a4d74bf4babe42d592a54": {
      "model_module": "@jupyter-widgets/controls",
      "model_module_version": "2.0.0",
      "model_name": "HTMLStyleModel",
      "state": {
       "description_width": "",
       "font_size": null,
       "text_color": null
      }
     },
     "b8cace46d91f49a4baf259d90f03f848": {
      "model_module": "@jupyter-widgets/controls",
      "model_module_version": "2.0.0",
      "model_name": "HTMLStyleModel",
      "state": {
       "description_width": "",
       "font_size": null,
       "text_color": null
      }
     },
     "c5cf169f6c6a46e6a1cb2fad91d39113": {
      "model_module": "@jupyter-widgets/base",
      "model_module_version": "2.0.0",
      "model_name": "LayoutModel",
      "state": {
       "width": "70px"
      }
     },
     "dbee53b424144aff858cba36ab1cea15": {
      "model_module": "@jupyter-widgets/base",
      "model_module_version": "2.0.0",
      "model_name": "LayoutModel",
      "state": {
       "grid_template_areas": "\n                                       \". . . . right \"\n                                        ",
       "grid_template_columns": "20% 20% 20% 20% 20%",
       "width": "100%"
      }
     },
     "dc062339f91748768656dcaf4940942a": {
      "model_module": "@jupyter-widgets/controls",
      "model_module_version": "2.0.0",
      "model_name": "HTMLModel",
      "state": {
       "layout": "IPY_MODEL_e07891cf80824c13bb7fa6118fc087d7",
       "style": "IPY_MODEL_5aef07efaf634938911c3c0555757d28",
       "value": "<h5>Backend</h5>"
      }
     },
     "dd03dec20e8f47d0ab86e3484ba7e392": {
      "model_module": "@jupyter-widgets/controls",
      "model_module_version": "2.0.0",
      "model_name": "HTMLModel",
      "state": {
       "layout": "IPY_MODEL_90d42db889714fe2aae2142daf3edfca",
       "style": "IPY_MODEL_a6bdfbaed6ad42e68e103b7d472ce35c",
       "value": "<p style='font-family: IBM Plex Sans, Arial, Helvetica, sans-serif; font-size: 20px; font-weight: medium;'>Circuit Properties</p>"
      }
     },
     "e07891cf80824c13bb7fa6118fc087d7": {
      "model_module": "@jupyter-widgets/base",
      "model_module_version": "2.0.0",
      "model_name": "LayoutModel",
      "state": {
       "width": "145px"
      }
     }
    },
    "version_major": 2,
    "version_minor": 0
   }
  }
 },
 "nbformat": 4,
 "nbformat_minor": 5
}
